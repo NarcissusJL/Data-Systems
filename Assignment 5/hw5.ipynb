{
 "cells": [
  {
   "cell_type": "markdown",
   "metadata": {},
   "source": [
    "## Homework 5\n",
    "CS 181/DA 210, Spring 2022 <br>\n",
    "Dr. Kell\n",
    "\n",
    "Before you turn in your submission, make sure all problems with code run as expected. First, restart the kernel (in the menubar, select Kernel → Restart) and then run all cells (in the menubar, select Cell → Run All). Make sure you fill in any place that says YOUR CODE HERE.\n",
    "\n",
    "Best of luck! "
   ]
  },
  {
   "cell_type": "code",
   "execution_count": 1,
   "metadata": {},
   "outputs": [],
   "source": [
    "# Put your name here\n",
    "NAME = \"Zuoyu Wang\""
   ]
  },
  {
   "cell_type": "code",
   "execution_count": 2,
   "metadata": {},
   "outputs": [],
   "source": [
    "import re\n",
    "import pandas as pd"
   ]
  },
  {
   "cell_type": "markdown",
   "metadata": {},
   "source": [
    "## Problem 1 [15 points, 5 point each]\n",
    "In the cell below, write regular expression that match the patterns described below. It suffices to write your expression in a raw string (although you are welcome to test your pattern using the re Python package if you like). \n",
    "\n",
    "(a) Strings containing only 0 and 1 characters (binary strings) that are length at least three and the third character is a 0.\n",
    "\n",
    "(b) Strings containing only 0 and 1 characters that that either (a) start with a 0 and have even length, or (b) start with a 1 and have odd length.  \n",
    "\n",
    "(c) Strings containing only 0 and 1 characters that that have <i>at least</i> two 0s and <i>at most</i> one 1. "
   ]
  },
  {
   "cell_type": "code",
   "execution_count": 18,
   "metadata": {
    "nbgrader": {
     "grade": false,
     "grade_id": "cell-20b4613ee391831a",
     "locked": false,
     "schema_version": 1,
     "solution": true
    }
   },
   "outputs": [
    {
     "data": {
      "text/plain": [
       "'(0+10+|100+|0+01)'"
      ]
     },
     "execution_count": 18,
     "metadata": {},
     "output_type": "execute_result"
    }
   ],
   "source": [
    "r\"(0|1)(0|1)0(0|1)*\"  # PATTERN FOR (a) \n",
    "\n",
    "r\"1((0|1)(0|1))* | 0(0|1)((0|1)(0|1))*\"  # PATTERN FOR (b) \n",
    "\n",
    "r\"(0+10+|100+|0+01)\"  # PATTERN FOR (c) "
   ]
  },
  {
   "cell_type": "markdown",
   "metadata": {},
   "source": [
    "## Problem 2 [10 points] \n",
    "\n",
    "Given the table below, write a single regular expression that matches all the items in the first column (the entirety of the match, but stopping before the trailing spaces) but none of those in the second column.  You **must** use matching of true patterns, looking at the similarities and differences between the two columns.  A disjunction of the literals in the first column will not be awarded any points.\n",
    "```python\n",
    "\"\"\"\n",
    "Match     | No Match\n",
    "--------------------\n",
    "pit       | pt\n",
    "spot      | Pot\n",
    "spate     | peat\n",
    "slap two  | part\n",
    "respite   | top it\n",
    "\"\"\"\n",
    "```\n"
   ]
  },
  {
   "cell_type": "code",
   "execution_count": 19,
   "metadata": {},
   "outputs": [
    {
     "name": "stdout",
     "output_type": "stream",
     "text": [
      "['pit', 'spot', 'spate', 'slap two', 'respite']\n"
     ]
    }
   ],
   "source": [
    "target = \"\"\"\n",
    "Match     | No Match\n",
    "--------------------\n",
    "pit       | pt\n",
    "spot      | Pot\n",
    "spate     | peat\n",
    "slap two  | part\n",
    "respite   | top it\n",
    "\"\"\"\n",
    "\n",
    "\n",
    "pattern =r\".*p.{1}t[a-z]{0,2}\"# PATTERN PROBLEM 2  \n",
    "print(re.findall(pattern, target)) "
   ]
  },
  {
   "cell_type": "markdown",
   "metadata": {},
   "source": [
    "## Problem 3 [10 points] \n",
    "Write a regular expression pattern that matches 9 digit telephone numbers. The numbers will be formatted as `dddsdddsdddd` or `(ddd)sdddsdddd`, where `d` is a digit and `s` is a separator (space, period, or dash), e.g., `555 555.5555` or `(555) 555-5555`. Besides matching valid phone numbers, you should capture all three portions of the phone number---the area code, the three digit exchange prefix, and the four digit line number.\n"
   ]
  },
  {
   "cell_type": "code",
   "execution_count": 20,
   "metadata": {},
   "outputs": [
    {
     "data": {
      "text/plain": [
       "'\\\\(?([0-9]{3})\\\\)?[\\\\.\\\\-\\\\s]+([0-9]{3})[\\\\.\\\\-\\\\s]+([0-9]{4})'"
      ]
     },
     "execution_count": 20,
     "metadata": {},
     "output_type": "execute_result"
    }
   ],
   "source": [
    "# YOUR CODE GOES HERE \n",
    "\n",
    "r'\\(?([0-9]{3})\\)?[\\.\\-\\s]+([0-9]{3})[\\.\\-\\s]+([0-9]{4})'"
   ]
  },
  {
   "cell_type": "code",
   "execution_count": 21,
   "metadata": {},
   "outputs": [
    {
     "name": "stdout",
     "output_type": "stream",
     "text": [
      "[('740', '515', '1998'), ('740', '323', '2333'), ('740', '333', '1231'), ('740', '121', '2366'), ('555', '555', '5555'), ('123', '456', '5789')]\n"
     ]
    }
   ],
   "source": [
    "# YOUR TESTS GO HERE\n",
    "/\n",
    "target = \"\"\"\n",
    "((740).515-1998\n",
    "740 323 2333\n",
    "(740)-333-1231\n",
    "740.121.2366\n",
    "555 555.5555\n",
    "(123) 456-5789\n",
    "\"\"\"\n",
    "\n",
    "##pattern = (r'\\(?([0-9]{3})\\)?.*([0-9]{3}).*([0-9]{4})')\n",
    "pattern = (r'\\(?([0-9]{3})\\)?[\\.\\-\\s]+([0-9]{3})[\\.\\-\\s]+([0-9]{4})')\n",
    "\n",
    "\n",
    "print(re.findall(pattern, target)) "
   ]
  },
  {
   "cell_type": "code",
   "execution_count": 7,
   "metadata": {},
   "outputs": [
    {
     "ename": "AssertionError",
     "evalue": "",
     "output_type": "error",
     "traceback": [
      "\u001b[1;31m---------------------------------------------------------------------------\u001b[0m",
      "\u001b[1;31mAssertionError\u001b[0m                            Traceback (most recent call last)",
      "\u001b[1;32m~\\AppData\\Local\\Temp/ipykernel_23364/3908520536.py\u001b[0m in \u001b[0;36m<module>\u001b[1;34m\u001b[0m\n\u001b[0;32m     44\u001b[0m \u001b[1;32massert\u001b[0m \u001b[0mre\u001b[0m\u001b[1;33m.\u001b[0m\u001b[0mfindall\u001b[0m\u001b[1;33m(\u001b[0m\u001b[0mpattern\u001b[0m\u001b[1;33m,\u001b[0m \u001b[0mtarget3\u001b[0m\u001b[1;33m)\u001b[0m \u001b[1;33m==\u001b[0m\u001b[1;33m[\u001b[0m\u001b[1;33m(\u001b[0m\u001b[1;34m'199'\u001b[0m\u001b[1;33m,\u001b[0m \u001b[1;34m'333'\u001b[0m\u001b[1;33m,\u001b[0m \u001b[1;34m'9881'\u001b[0m\u001b[1;33m)\u001b[0m\u001b[1;33m,\u001b[0m \u001b[1;33m(\u001b[0m\u001b[1;34m'887'\u001b[0m\u001b[1;33m,\u001b[0m \u001b[1;34m'888'\u001b[0m\u001b[1;33m,\u001b[0m \u001b[1;34m'8887'\u001b[0m\u001b[1;33m)\u001b[0m\u001b[1;33m,\u001b[0m \u001b[1;33m(\u001b[0m\u001b[1;34m'433'\u001b[0m\u001b[1;33m,\u001b[0m \u001b[1;34m'334'\u001b[0m\u001b[1;33m,\u001b[0m \u001b[1;34m'4433'\u001b[0m\u001b[1;33m)\u001b[0m\u001b[1;33m,\u001b[0m \u001b[1;33m(\u001b[0m\u001b[1;34m'234'\u001b[0m\u001b[1;33m,\u001b[0m \u001b[1;34m'976'\u001b[0m\u001b[1;33m,\u001b[0m \u001b[1;34m'8765'\u001b[0m\u001b[1;33m)\u001b[0m\u001b[1;33m,\u001b[0m \u001b[1;33m(\u001b[0m\u001b[1;34m'658'\u001b[0m\u001b[1;33m,\u001b[0m \u001b[1;34m'123'\u001b[0m\u001b[1;33m,\u001b[0m \u001b[1;34m'3423'\u001b[0m\u001b[1;33m)\u001b[0m\u001b[1;33m,\u001b[0m \u001b[1;33m(\u001b[0m\u001b[1;34m'123'\u001b[0m\u001b[1;33m,\u001b[0m \u001b[1;34m'654'\u001b[0m\u001b[1;33m,\u001b[0m \u001b[1;34m'0987'\u001b[0m\u001b[1;33m)\u001b[0m\u001b[1;33m]\u001b[0m\u001b[1;33m\u001b[0m\u001b[1;33m\u001b[0m\u001b[0m\n\u001b[0;32m     45\u001b[0m \u001b[1;32massert\u001b[0m \u001b[0mre\u001b[0m\u001b[1;33m.\u001b[0m\u001b[0mfindall\u001b[0m\u001b[1;33m(\u001b[0m\u001b[0mpattern\u001b[0m\u001b[1;33m,\u001b[0m \u001b[0mtarget4\u001b[0m\u001b[1;33m)\u001b[0m \u001b[1;33m==\u001b[0m\u001b[1;33m[\u001b[0m\u001b[1;33m(\u001b[0m\u001b[1;34m'888'\u001b[0m\u001b[1;33m,\u001b[0m \u001b[1;34m'888'\u001b[0m\u001b[1;33m,\u001b[0m \u001b[1;34m'8888'\u001b[0m\u001b[1;33m)\u001b[0m\u001b[1;33m,\u001b[0m \u001b[1;33m(\u001b[0m\u001b[1;34m'777'\u001b[0m\u001b[1;33m,\u001b[0m \u001b[1;34m'333'\u001b[0m\u001b[1;33m,\u001b[0m \u001b[1;34m'2222'\u001b[0m\u001b[1;33m)\u001b[0m\u001b[1;33m,\u001b[0m \u001b[1;33m(\u001b[0m\u001b[1;34m'999'\u001b[0m\u001b[1;33m,\u001b[0m \u001b[1;34m'999'\u001b[0m\u001b[1;33m,\u001b[0m \u001b[1;34m'9999'\u001b[0m\u001b[1;33m)\u001b[0m\u001b[1;33m,\u001b[0m \u001b[1;33m(\u001b[0m\u001b[1;34m'111'\u001b[0m\u001b[1;33m,\u001b[0m \u001b[1;34m'111'\u001b[0m\u001b[1;33m,\u001b[0m \u001b[1;34m'1111'\u001b[0m\u001b[1;33m)\u001b[0m\u001b[1;33m,\u001b[0m \u001b[1;33m(\u001b[0m\u001b[1;34m'555'\u001b[0m\u001b[1;33m,\u001b[0m \u001b[1;34m'555'\u001b[0m\u001b[1;33m,\u001b[0m \u001b[1;34m'5555'\u001b[0m\u001b[1;33m)\u001b[0m\u001b[1;33m,\u001b[0m \u001b[1;33m(\u001b[0m\u001b[1;34m'666'\u001b[0m\u001b[1;33m,\u001b[0m \u001b[1;34m'666'\u001b[0m\u001b[1;33m,\u001b[0m \u001b[1;34m'6666'\u001b[0m\u001b[1;33m)\u001b[0m\u001b[1;33m]\u001b[0m\u001b[1;33m\u001b[0m\u001b[1;33m\u001b[0m\u001b[0m\n\u001b[1;32m---> 46\u001b[1;33m \u001b[1;32massert\u001b[0m \u001b[0mre\u001b[0m\u001b[1;33m.\u001b[0m\u001b[0mfindall\u001b[0m\u001b[1;33m(\u001b[0m\u001b[0mpattern\u001b[0m\u001b[1;33m,\u001b[0m \u001b[0mtarget5\u001b[0m\u001b[1;33m)\u001b[0m \u001b[1;33m==\u001b[0m\u001b[1;33m[\u001b[0m\u001b[1;33m(\u001b[0m\u001b[1;34m'740'\u001b[0m\u001b[1;33m,\u001b[0m \u001b[1;34m'515'\u001b[0m\u001b[1;33m,\u001b[0m \u001b[1;34m'1998888'\u001b[0m\u001b[1;33m)\u001b[0m\u001b[1;33m,\u001b[0m \u001b[1;33m(\u001b[0m\u001b[1;34m'740'\u001b[0m\u001b[1;33m,\u001b[0m \u001b[1;34m'323'\u001b[0m\u001b[1;33m,\u001b[0m \u001b[1;34m'2333777'\u001b[0m\u001b[1;33m)\u001b[0m\u001b[1;33m,\u001b[0m \u001b[1;33m(\u001b[0m\u001b[1;34m'740'\u001b[0m\u001b[1;33m,\u001b[0m \u001b[1;34m'333'\u001b[0m\u001b[1;33m,\u001b[0m \u001b[1;34m'123177'\u001b[0m\u001b[1;33m)\u001b[0m\u001b[1;33m,\u001b[0m \u001b[1;33m(\u001b[0m\u001b[1;34m'740'\u001b[0m\u001b[1;33m,\u001b[0m \u001b[1;34m'121'\u001b[0m\u001b[1;33m,\u001b[0m \u001b[1;34m'2366yyt'\u001b[0m\u001b[1;33m)\u001b[0m\u001b[1;33m,\u001b[0m \u001b[1;33m(\u001b[0m\u001b[1;34m'555'\u001b[0m\u001b[1;33m,\u001b[0m \u001b[1;34m'555'\u001b[0m\u001b[1;33m,\u001b[0m \u001b[1;34m'5555'\u001b[0m\u001b[1;33m)\u001b[0m\u001b[1;33m,\u001b[0m \u001b[1;33m(\u001b[0m\u001b[1;34m'123'\u001b[0m\u001b[1;33m,\u001b[0m \u001b[1;34m'456'\u001b[0m\u001b[1;33m,\u001b[0m \u001b[1;34m'578'\u001b[0m\u001b[1;33m)\u001b[0m\u001b[1;33m]\u001b[0m\u001b[1;33m\u001b[0m\u001b[1;33m\u001b[0m\u001b[0m\n\u001b[0m",
      "\u001b[1;31mAssertionError\u001b[0m: "
     ]
    }
   ],
   "source": [
    "# YOUR TESTS GO HERE\n",
    "target1= \"\"\"\n",
    "(740).515-1998\n",
    "740 323 2333\n",
    "(740)-333-1231\n",
    "740.121.2366\n",
    "555 555.5555\n",
    "(123) 456-5789\n",
    "\"\"\"\n",
    "target2= \"\"\"\n",
    "(555).575-3998\n",
    "047 556 2333\n",
    "(047)-444-9879\n",
    "000.000.1111\n",
    "000 000.0000\n",
    "(000) 999-0990\n",
    "\"\"\"\n",
    "target3= \"\"\"\n",
    "(199).333-9881\n",
    "887 888 8887\n",
    "(433)-334-4433\n",
    "234.976.8765\n",
    "658 123.3423\n",
    "(123) 654-0987\n",
    "\"\"\"\n",
    "target4= \"\"\"\n",
    "(888).888-8888\n",
    "777 333 2222\n",
    "(999)-999-9999\n",
    "111.111.1111\n",
    "555 555.5555\n",
    "(666) 666-6666\n",
    "\"\"\"\n",
    "target5= \"\"\"\n",
    "(740).515-1998888\n",
    "740 323 2333777\n",
    "(740)-333-123177\n",
    "740.121.2366yyt\n",
    "5555555555\n",
    "(123) 456-578\n",
    "\"\"\"\n",
    "assert re.findall(pattern, target1) == [('740', '515', '1998'), ('740', '323', '2333'),('740', '333', '1231'), ('740', '121', '2366'),('555', '555', '5555'), ('123', '456', '5789')]\n",
    "assert re.findall(pattern, target2) ==[('555', '575', '3998'), ('047', '556', '2333'), ('047', '444', '9879'), ('000', '000', '1111'), ('000', '000', '0000'), ('000', '999', '0990')]\n",
    "assert re.findall(pattern, target3) ==[('199', '333', '9881'), ('887', '888', '8887'), ('433', '334', '4433'), ('234', '976', '8765'), ('658', '123', '3423'), ('123', '654', '0987')]\n",
    "assert re.findall(pattern, target4) ==[('888', '888', '8888'), ('777', '333', '2222'), ('999', '999', '9999'), ('111', '111', '1111'), ('555', '555', '5555'), ('666', '666', '6666')]\n",
    "assert re.findall(pattern, target5) ==[('740', '515', '1998888'), ('740', '323', '2333777'), ('740', '333', '123177'), ('740', '121', '2366yyt'), ('555', '555', '5555'), ('123', '456', '578')]"
   ]
  },
  {
   "cell_type": "markdown",
   "metadata": {},
   "source": [
    "## Problem 4 [10 points] \n",
    "Below is the poem \"The Raven\" written by the the American poet Edgar Allan Poe in 1845."
   ]
  },
  {
   "cell_type": "code",
   "execution_count": 3,
   "metadata": {},
   "outputs": [],
   "source": [
    "target = '''Once upon a midnight dreary, while I pondered, weak and weary,\n",
    "Over many a quaint and curious volume of forgotten lore—\n",
    "While I nodded, nearly napping, suddenly there came a tapping,\n",
    "As of some one gently rapping, rapping at my chamber door—\n",
    "\"'Tis some visitor,\" I muttered, \"tapping at my chamber door—\n",
    "               Only this and nothing more.\"\n",
    "\n",
    "Ah, distinctly I remember it was in the bleak December;\n",
    "And each separate dying ember wrought its ghost upon the floor.\n",
    "Eagerly I wished the morrow;—vainly I had sought to borrow\n",
    "From my books surcease of sorrow—sorrow for the lost Lenore—\n",
    "For the rare and radiant maiden whom the angels name Lenore—\n",
    "               Nameless here for evermore.\n",
    "\n",
    "And the silken, sad, uncertain rustling of each purple curtain\n",
    "Thrilled me—filled me with fantastic terrors never felt before;\n",
    "So that now, to still the beating of my heart, I stood repeating,\n",
    "\"'Tis some visitor entreating entrance at my chamber door—\n",
    "Some late visitor entreating entrance at my chamber door;—\n",
    "               This it is and nothing more.\"\n",
    "\n",
    "Presently my soul grew stronger; hesitating then no longer,\n",
    "\"Sir,\" said I, \"or Madam, truly your forgiveness I implore;\n",
    "But the fact is I was napping, and so gently you came rapping,\n",
    "And so faintly you came tapping, tapping at my chamber door,\n",
    "That I scarce was sure I heard you\"—here I opened wide the door;—\n",
    "               Darkness there and nothing more.\n",
    "\n",
    "Deep into that darkness peering, long I stood there wondering, fearing,\n",
    "Doubting, dreaming dreams no mortal ever dared to dream before;\n",
    "But the silence was unbroken, and the stillness gave no token,\n",
    "And the only word there spoken was the whispered word, \"Lenore?\"\n",
    "This I whispered, and an echo murmured back the word, \"Lenore!\"—\n",
    "               Merely this and nothing more.\n",
    "\n",
    "Back into the chamber turning, all my soul within me burning,\n",
    "Soon again I heard a tapping somewhat louder than before.\n",
    "\"Surely,\" said I, \"surely that is something at my window lattice;\n",
    "Let me see, then, what thereat is, and this mystery explore—\n",
    "Let my heart be still a moment and this mystery explore;—\n",
    "               'Tis the wind and nothing more!\"\n",
    "\n",
    "Open here I flung the shutter, when, with many a flirt and flutter,\n",
    "In there stepped a stately Raven of the saintly days of yore;\n",
    "Not the least obeisance made he; not a minute stopped or stayed he;\n",
    "But, with mien of lord or lady, perched above my chamber door—\n",
    "Perched upon a bust of Pallas just above my chamber door—\n",
    "               Perched, and sat, and nothing more.\n",
    "\n",
    "Then this ebony bird beguiling my sad fancy into smiling,\n",
    "By the grave and stern decorum of the countenance it wore,\n",
    "\"Though thy crest be shorn and shaven, thou,\" I said, \"art sure no craven,\n",
    "Ghastly grim and ancient Raven wandering from the Nightly shore—\n",
    "Tell me what thy lordly name is on the Night's Plutonian shore!\"\n",
    "               Quoth the Raven \"Nevermore.\"\n",
    "\n",
    "Much I marvelled this ungainly fowl to hear discourse so plainly,\n",
    "Though its answer little meaning—little relevancy bore;\n",
    "For we cannot help agreeing that no living human being\n",
    "Ever yet was blest with seeing bird above his chamber door—\n",
    "Bird or beast upon the sculptured bust above his chamber door,\n",
    "               With such name as \"Nevermore.\"\n",
    "\n",
    "But the Raven, sitting lonely on the placid bust, spoke only\n",
    "That one word, as if his soul in that one word he did outpour.\n",
    "Nothing further then he uttered—not a feather then he fluttered—\n",
    "Till I scarcely more than muttered \"Other friends have flown before—\n",
    "On the morrow he will leave me, as my hopes have flown before.\"\n",
    "               Then the bird said \"Nevermore.\"\n",
    "\n",
    "Startled at the stillness broken by reply so aptly spoken,\n",
    "\"Doubtless,\" said I, \"what it utters is its only stock and store\n",
    "Caught from some unhappy master whom unmerciful Disaster\n",
    "Followed fast and followed faster till his songs one burden bore—\n",
    "Till the dirges of his Hope that melancholy burden bore\n",
    "               Of 'Never—nevermore.'\"\n",
    "\n",
    "But the Raven still beguiling my sad fancy into smiling,\n",
    "Straight I wheeled a cushioned seat in front of bird, and bust and door;\n",
    "Then, upon the velvet sinking, I betook myself to linking\n",
    "Fancy unto fancy, thinking what this ominous bird of yore—\n",
    "What this grim, ungainly, ghastly, gaunt and ominous bird of yore\n",
    "               Meant in croaking \"Nevermore.\"\n",
    "\n",
    "This I sat engaged in guessing, but no syllable expressing\n",
    "To the fowl whose fiery eyes now burned into my bosom's core;\n",
    "This and more I sat divining, with my head at ease reclining\n",
    "On the cushion's velvet lining that the lamp-light gloated o'er,\n",
    "But whose velvet violet lining with the lamp-light gloating o'er,\n",
    "               She shall press, ah, nevermore!\n",
    "\n",
    "Then, methought, the air grew denser, perfumed from an unseen censer\n",
    "Swung by Seraphim whose foot-falls tinkled on the tufted floor.\n",
    "\"Wretch,\" I cried, \"thy God hath lent thee—by these angels he hath sent thee\n",
    "Respite—respite and nepenthe, from thy memories of Lenore;\n",
    "Quaff, oh quaff this kind nepenthe and forget this lost Lenore!\"\n",
    "               Quoth the Raven \"Nevermore.\"\n",
    "\n",
    "\"Prophet!\" said I, \"thing of evil!—prophet still, if bird or devil!—\n",
    "Whether Tempter sent, or whether tempest tossed thee here ashore,\n",
    "Desolate yet all undaunted, on this desert land enchanted—\n",
    "On this home by Horror haunted—tell me truly, I implore—\n",
    "Is there—is there balm in Gilead?—tell me—tell me, I implore!\"\n",
    "               Quoth the Raven \"Nevermore.\"\n",
    "\n",
    "\"Prophet!\" said I, \"thing of evil—prophet still, if bird or devil!\n",
    "By that Heaven that bends above us—by that God we both adore—\n",
    "Tell this soul with sorrow laden if, within the distant Aidenn,\n",
    "It shall clasp a sainted maiden whom the angels name Lenore—\n",
    "Clasp a rare and radiant maiden whom the angels name Lenore.\"\n",
    "               Quoth the Raven \"Nevermore.\"\n",
    "\n",
    "\"Be that word our sign in parting, bird or fiend!\" I shrieked, upstarting—\n",
    "\"Get thee back into the tempest and the Night's Plutonian shore!\n",
    "Leave no black plume as a token of that lie thy soul hath spoken!\n",
    "Leave my loneliness unbroken!—quit the bust above my door!\n",
    "Take thy beak from out my heart, and take thy form from off my door!\"\n",
    "               Quoth the Raven \"Nevermore.\"\n",
    "\n",
    "And the Raven, never flitting, still is sitting, still is sitting\n",
    "On the pallid bust of Pallas just above my chamber door;\n",
    "And his eyes have all the seeming of a demon's that is dreaming,\n",
    "And the lamp-light o'er him streaming throws his shadow on the floor;\n",
    "And my soul from out that shadow that lies floating on the floor\n",
    "               Shall be lifted—nevermore!'''"
   ]
  },
  {
   "cell_type": "markdown",
   "metadata": {},
   "source": [
    "Notice that in every stanza (except for the second), the last ends with the phrase \" and nothing more\" or the word \"Nevermore\". In the cell below, use the re package in Python to create a DoL with two columns, one column with header <code>\"Nothing More\"</code> and the other with column header <code>\"Nevermore\"</code>. The entries in the <code>Nothing More</code> column should contain all the phrases that appear before the phase \" and nothing more\": \n",
    "\n",
    "<code> ['Only this', 'This it is', 'Darkness there', 'Merely this', \"'Tis the wind\", 'Perched, and sat,'] </code>\n",
    "\n",
    "And likewise the <code>Nevermore</code> column should contain the following entries:\n",
    "\n",
    "<code>['Quoth the Raven', 'With such name as', 'Then the bird said', \"Of 'Never\", 'Meant in croaking', 'She shall press, ah,' 'Quoth the Raven', 'Quoth the Raven', 'Quoth the Raven', 'Quoth the Raven',  'Shall be lifted']</code>\n",
    "\n",
    "The phrases do not have appear in the same order as the poem (i.e., it's fine to make mulitple patterns and search the target over again), but the phrases should match the above lists in terms of which spaces, punctuation, etc. are included/excluded. "
   ]
  },
  {
   "cell_type": "code",
   "execution_count": 4,
   "metadata": {},
   "outputs": [
    {
     "name": "stdout",
     "output_type": "stream",
     "text": [
      "{'Nothing More': ['Only this', 'This it is', 'Darkness there', 'Merely this', \"'Tis the wind\", 'Perched, and sat,'], 'Nevermore': ['Quoth the Raven', 'With such name as', 'Then the bird said', \"Of 'Never\", 'Meant in croaking', 'She shall press, ah,', 'Quoth the Raven', 'Quoth the Raven', 'Quoth the Raven', 'Quoth the Raven', 'Shall be lifted']}\n"
     ]
    }
   ],
   "source": [
    "# YOUR CODE GOES HERE \n",
    "import pandas as pd\n",
    "\n",
    "\n",
    "pattern1 =r\"(?:\\n\\s+)(.*) and nothing more\"\n",
    "pattern2 = r\"(?:\\n\\s+)(.*[\\w,]) ?.[Nn]evermore\"\n",
    "\n",
    "MoreDol = {\"Nothing More\": [], \"Nevermore\": []}\n",
    "\n",
    "\n",
    "for match1 in re.finditer(pattern1, target):\n",
    "    entry1 = (match1.group(1))\n",
    "    \n",
    "    MoreDol[\"Nothing More\"].append(entry1)\n",
    "\n",
    "\n",
    "for match2 in re.finditer(pattern2,target):\n",
    "    entry2 = (match2.group(1))\n",
    "    MoreDol[\"Nevermore\"].append(entry2)\n",
    "    \n",
    "\n",
    "print(MoreDol)"
   ]
  },
  {
   "cell_type": "code",
   "execution_count": 60,
   "metadata": {},
   "outputs": [
    {
     "name": "stdout",
     "output_type": "stream",
     "text": [
      "['Only this', 'This it is', 'Darkness there', 'Merely this', \"'Tis the wind\", 'Perched, and sat,']\n",
      "['Quoth the Raven', 'With such name as', 'Then the bird said', \"Of 'Never\", 'Meant in croaking', 'She shall press, ah,', 'Quoth the Raven', 'Quoth the Raven', 'Quoth the Raven', 'Quoth the Raven', 'Shall be lifted']\n"
     ]
    }
   ],
   "source": [
    "pattern1 = r\"\\n\\s+(.*) and nothing more\"\n",
    "pattern2 = r\"\\n\\s+(.*[\\w,]) ?.[Nn]evermore\"\n",
    "\n",
    "print(re.findall(pattern1,target))\n",
    "print(re.findall(pattern2,target))\n",
    "\n"
   ]
  },
  {
   "cell_type": "code",
   "execution_count": null,
   "metadata": {},
   "outputs": [],
   "source": []
  },
  {
   "cell_type": "code",
   "execution_count": null,
   "metadata": {},
   "outputs": [],
   "source": []
  }
 ],
 "metadata": {
  "celltoolbar": "Create Assignment",
  "kernelspec": {
   "display_name": "Python 3 (ipykernel)",
   "language": "python",
   "name": "python3"
  },
  "language_info": {
   "codemirror_mode": {
    "name": "ipython",
    "version": 3
   },
   "file_extension": ".py",
   "mimetype": "text/x-python",
   "name": "python",
   "nbconvert_exporter": "python",
   "pygments_lexer": "ipython3",
   "version": "3.9.7"
  }
 },
 "nbformat": 4,
 "nbformat_minor": 2
}
